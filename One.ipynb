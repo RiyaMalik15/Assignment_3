{
 "cells": [
  {
   "cell_type": "code",
   "execution_count": 4,
   "metadata": {},
   "outputs": [
    {
     "name": "stdout",
     "output_type": "stream",
     "text": [
      "Output: 0.0303030303030303\n"
     ]
    }
   ],
   "source": [
    "# Question-1\n",
    "def prob(D,A):\n",
    "    E = float(D/A)\n",
    "    print(\"Output:\", E)\n",
    "A = float(11/36)\n",
    "B = float(6/36)\n",
    "C = float(2/36)\n",
    "D = float(C*B)\n",
    "prob(D,A)"
   ]
  },
  {
   "cell_type": "code",
   "execution_count": null,
   "metadata": {},
   "outputs": [],
   "source": [
    "# Question-2\n",
    "\n",
    "''' \n",
    " Probability of 1st bag = 1/2\n",
    " Probability pf 2nd bag = 1/2\n",
    " Probability of getting black ball in 1st bag = 6/10\n",
    " Probability of getting black ball in 2nd bag = 3/7\n",
    " Probability of getting 1st bag when ball is black:\n",
    "       \n",
    "       ((6/10)*(1/2)) / (((6/10)*(1/2))+((3/7)*(1/2)))\n",
    " From the abo\n",
    " '''\n",
    " \n",
    "\n",
    "\n",
    "\n"
   ]
  },
  {
   "cell_type": "code",
   "execution_count": null,
   "metadata": {},
   "outputs": [],
   "source": []
  }
 ],
 "metadata": {
  "kernelspec": {
   "display_name": "Python 3",
   "language": "python",
   "name": "python3"
  },
  "language_info": {
   "codemirror_mode": {
    "name": "ipython",
    "version": 3
   },
   "file_extension": ".py",
   "mimetype": "text/x-python",
   "name": "python",
   "nbconvert_exporter": "python",
   "pygments_lexer": "ipython3",
   "version": "3.6.5"
  }
 },
 "nbformat": 4,
 "nbformat_minor": 2
}
